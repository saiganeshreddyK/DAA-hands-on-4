{
 "cells": [
  {
   "cell_type": "markdown",
   "id": "c2f86c9c-eae7-48e2-af25-baaa7de921f0",
   "metadata": {},
   "source": [
    "## Given a sorted array array of size N, the task is to remove the duplicate elements from the array."
   ]
  },
  {
   "cell_type": "code",
   "execution_count": 6,
   "id": "0187966d-70d6-4ec9-884b-a6ad07b8bc90",
   "metadata": {},
   "outputs": [
    {
     "name": "stdout",
     "output_type": "stream",
     "text": [
      "[2]\n",
      "[1, 2, 3, 4, 5]\n"
     ]
    }
   ],
   "source": [
    "def remove_duplicates(array):\n",
    "    if len(array) == 0:\n",
    "        return array\n",
    "\n",
    "    unique_array = [array[0]]  \n",
    "\n",
    "    for i in range(1, len(array)):\n",
    "        if array[i] != array[i - 1]:\n",
    "            unique_array.append(array[i])\n",
    "\n",
    "    return unique_array\n",
    "\n",
    "\n",
    "array1 = [2, 2, 2, 2, 2]\n",
    "print(remove_duplicates(array1))  \n",
    "\n",
    "array2 = [1, 2, 2, 3, 4, 4, 4, 5, 5]\n",
    "print(remove_duplicates(array2))  "
   ]
  },
  {
   "cell_type": "markdown",
   "id": "9ed9e52e-a2ab-4ad6-9ea7-ee2e6a02539f",
   "metadata": {},
   "source": [
    "### **Time complexity:**"
   ]
  },
  {
   "cell_type": "markdown",
   "id": "acf47369-25b1-419f-a910-4bf8c100eab9",
   "metadata": {},
   "source": [
    "#### The function iterates through the input array once using a 'for' loop, checking each element against the previous one. Therefore the time complexity is O(n), where n is the input size."
   ]
  },
  {
   "cell_type": "markdown",
   "id": "f3214af4-830f-4b9a-9f30-8cffe4316575",
   "metadata": {},
   "source": [
    "### **Improvements**"
   ]
  },
  {
   "cell_type": "markdown",
   "id": "25ea1409-dabc-4138-9ef9-d9f05186066e",
   "metadata": {},
   "source": [
    "#### This approach is already effective with time complexity of O(n) or we can use different searching techniques like binary search"
   ]
  }
 ],
 "metadata": {
  "kernelspec": {
   "display_name": "Python 3 (ipykernel)",
   "language": "python",
   "name": "python3"
  },
  "language_info": {
   "codemirror_mode": {
    "name": "ipython",
    "version": 3
   },
   "file_extension": ".py",
   "mimetype": "text/x-python",
   "name": "python",
   "nbconvert_exporter": "python",
   "pygments_lexer": "ipython3",
   "version": "3.12.1"
  }
 },
 "nbformat": 4,
 "nbformat_minor": 5
}
