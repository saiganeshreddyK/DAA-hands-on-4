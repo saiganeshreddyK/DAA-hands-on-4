{
 "cells": [
  {
   "cell_type": "markdown",
   "id": "2cc14968-e75d-48d5-bcad-39325814c9fc",
   "metadata": {},
   "source": [
    "## Given K sorted arrays of size N each, the task is to merge them all maintaining their sorted order."
   ]
  },
  {
   "cell_type": "code",
   "execution_count": 1,
   "id": "821914ae-8fb8-497e-aae2-4b69def7a8d7",
   "metadata": {},
   "outputs": [
    {
     "name": "stdout",
     "output_type": "stream",
     "text": [
      "[1, 2, 3, 4, 7, 8, 9, 10, 11]\n"
     ]
    }
   ],
   "source": [
    "def merge_sorted_arrays(*arrays):\n",
    "    merged_array = []\n",
    "    pointers = [0] * len(arrays)\n",
    "\n",
    "    while True:\n",
    "        smallest_element = float('inf')\n",
    "        smallest_index = None\n",
    "\n",
    "        for i, array in enumerate(arrays):\n",
    "            if pointers[i] < len(array) and array[pointers[i]] < smallest_element:\n",
    "                smallest_element = array[pointers[i]]\n",
    "                smallest_index = i\n",
    "\n",
    "        if smallest_index is None:\n",
    "            break\n",
    "\n",
    "        merged_array.append(smallest_element)\n",
    "        pointers[smallest_index] += 1\n",
    "\n",
    "    return merged_array\n",
    "\n",
    "\n",
    "array1 = [1, 3, 7]\n",
    "array2 = [2, 4, 8]\n",
    "array3 = [9, 10, 11]\n",
    "print(merge_sorted_arrays(array1, array2, array3))  "
   ]
  },
  {
   "cell_type": "markdown",
   "id": "fb00fba9-b5e1-4a4b-8910-2f567c014928",
   "metadata": {},
   "source": [
    "### **Time complexity:**\r\n"
   ]
  },
  {
   "cell_type": "markdown",
   "id": "ab13cd7a-e1c1-44b0-9b06-d986a5752711",
   "metadata": {},
   "source": [
    "#### Time complexity of this program is O(N * K * log K), where ‘N’ is no of entries in each array and ‘K’ is the no of arrays. It divides into half and at each array is traversal. At each level it merges two arrays of size of N, time takes for the operation is O(n). Time Complexity is O(N *K * log(K))."
   ]
  },
  {
   "cell_type": "markdown",
   "id": "36b6f0ab-00ec-4efb-bb53-627bf3fc0f0b",
   "metadata": {},
   "source": [
    "### **Improvement:** "
   ]
  },
  {
   "cell_type": "markdown",
   "id": "02c62aaf-bf0a-4682-b2bd-e666f479a2e2",
   "metadata": {},
   "source": [
    "#### Optimized Array Indexing:\n",
    "#### Instead of repeatedly accessing array[pointers[i]] inside the loop, you could cache the value of array and pointers[i] outside the loop. This can slightly improve performance by reducing the number of array accesses."
   ]
  },
  {
   "cell_type": "markdown",
   "id": "528333da-217f-487a-b4dc-024ada87816e",
   "metadata": {},
   "source": [
    "### **Memory efficienct:**"
   ]
  },
  {
   "cell_type": "markdown",
   "id": "164cd9c3-3bef-4886-a746-5387bce18e73",
   "metadata": {},
   "source": [
    "#### The current implementation creates new array during the merging process, which consume additional memory. In place of this merging techniques we can use techniques like In-Place Merging to save more memory."
   ]
  }
 ],
 "metadata": {
  "kernelspec": {
   "display_name": "Python 3 (ipykernel)",
   "language": "python",
   "name": "python3"
  },
  "language_info": {
   "codemirror_mode": {
    "name": "ipython",
    "version": 3
   },
   "file_extension": ".py",
   "mimetype": "text/x-python",
   "name": "python",
   "nbconvert_exporter": "python",
   "pygments_lexer": "ipython3",
   "version": "3.12.1"
  }
 },
 "nbformat": 4,
 "nbformat_minor": 5
}
