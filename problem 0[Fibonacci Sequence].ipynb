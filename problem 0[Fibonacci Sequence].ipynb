{
 "cells": [
  {
   "cell_type": "markdown",
   "id": "06efc7ed-4f95-4fd3-8462-2724e2610cee",
   "metadata": {},
   "source": [
    "## Fibonacci sequence"
   ]
  },
  {
   "cell_type": "code",
   "execution_count": 1,
   "id": "cad89e16-9fcf-4174-8d2f-e8bf42697061",
   "metadata": {},
   "outputs": [
    {
     "name": "stdout",
     "output_type": "stream",
     "text": [
      "fib(5) -> fib(4) + fib(3)\n",
      "    fib(4) -> fib(3) + fib(2)\n",
      "        fib(3) -> fib(2) + fib(1)\n",
      "            fib(2) -> fib(1) + fib(0)\n",
      "                fib(1)\n",
      "                fib(0)\n",
      "            fib(1)\n",
      "        fib(2) -> fib(1) + fib(0)\n",
      "            fib(1)\n",
      "            fib(0)\n",
      "    fib(3) -> fib(2) + fib(1)\n",
      "        fib(2) -> fib(1) + fib(0)\n",
      "            fib(1)\n",
      "            fib(0)\n",
      "        fib(1)\n",
      "fib(5) = 5\n"
     ]
    }
   ],
   "source": [
    "def fib(n):\n",
    "    if n == 0:\n",
    "        return 0\n",
    "    elif n == 1:\n",
    "        return 1\n",
    "    else:\n",
    "        return fib(n-1) + fib(n-2)\n",
    "\n",
    "def print_function_call_stack(n, indent=\"\"):\n",
    "    if n == 0:\n",
    "        print(indent + \"fib(0)\")\n",
    "    elif n == 1:\n",
    "        print(indent + \"fib(1)\")\n",
    "    else:\n",
    "        print(indent + \"fib({}) -> fib({}) + fib({})\".format(n, n-1, n-2))\n",
    "        print_function_call_stack(n-1, indent + \"    \")\n",
    "        print_function_call_stack(n-2, indent + \"    \")\n",
    "\n",
    "print_function_call_stack(5)\n",
    "print(\"fib(5) =\", fib(5))"
   ]
  }
 ],
 "metadata": {
  "kernelspec": {
   "display_name": "Python 3 (ipykernel)",
   "language": "python",
   "name": "python3"
  },
  "language_info": {
   "codemirror_mode": {
    "name": "ipython",
    "version": 3
   },
   "file_extension": ".py",
   "mimetype": "text/x-python",
   "name": "python",
   "nbconvert_exporter": "python",
   "pygments_lexer": "ipython3",
   "version": "3.12.1"
  }
 },
 "nbformat": 4,
 "nbformat_minor": 5
}
